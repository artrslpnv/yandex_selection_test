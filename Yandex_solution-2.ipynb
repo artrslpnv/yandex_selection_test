{
 "cells": [
  {
   "cell_type": "code",
   "execution_count": 41,
   "metadata": {},
   "outputs": [],
   "source": [
    "import pandas as pd\n",
    "import numpy as np"
   ]
  },
  {
   "cell_type": "markdown",
   "metadata": {},
   "source": [
    "Пробегом по массиву посчитаем количество конфет каждого типа, далее,докажем, что ответом является НОД этих чисел, действительно, так как наборы одинаковые, а брать в один набор мы может только целое число конфет,и число наборов целое, то количество наборов должно быть делителе  каждого числа из количеств конфет различного вида.\n",
    "Целого числа, который больше НОД чисел и  одновременно является делителем каждого из них не существует по определению НОД, осталось показать что  НОД(Наибольший общий делитель количеств конфет разных типов)  наборов собрать можно всегда. Ну это очевидно можно сделать следующим образом если конфет типа 'a' - $a$ штук, то мы берем:  $a$/НОД(количеств конфет разных типов) конфет этого типа и кладем в каждый набор, так мы потратим все имеющиеся конфеты, а наборы будут одинаковыми,так как конфет каждого типа мы кладем поровну."
   ]
  },
  {
   "cell_type": "code",
   "execution_count": 42,
   "metadata": {},
   "outputs": [],
   "source": [
    "def find_the_different_candies_count(list_of_gifts):\n",
    "    gifts_amounts=dict()\n",
    "    for i in list_of_gifts:\n",
    "        if i in gifts_amounts.keys():\n",
    "            gifts_amounts[i]+=1\n",
    "        else:\n",
    "            gifts_amounts[i]=1\n",
    "    return gifts_amounts\n"
   ]
  },
  {
   "cell_type": "markdown",
   "metadata": {},
   "source": [
    "Наверху реализована функция для подсчета количеств конфет разных типов, остается найти нод этих количеств, для этого просто найдем НОД 1 и 2 элементов массива  из этих количеств, далее нод их нода с третьим и тп.\n",
    "НОД будем искать с помощью алгоритма Евклида."
   ]
  },
  {
   "cell_type": "code",
   "execution_count": 44,
   "metadata": {},
   "outputs": [],
   "source": [
    "\n",
    "def gcd (a,b):\n",
    "    while a != 0 and b != 0:\n",
    "        if a > b:\n",
    "            a = a % b\n",
    "        else:\n",
    "            b = b % a\n",
    "    return a+b # в одной из переменных ноль, в другой НОД, но не знаем в какой именно, чтоб не ифать выводим сумму\n",
    "\n",
    "def find_the_amount_gifts(list_of_gifts): # вызывать вот эту функцию (перед этим запустить все ячейки до)\n",
    "    amounts=list(find_the_candies_amount(list_of_gifts).values())        \n",
    "    result=amounts[0]\n",
    "    for i in amounts[1::]:\n",
    "        result=gcd(result,i)\n",
    "    return result\n"
   ]
  },
  {
   "cell_type": "markdown",
   "metadata": {},
   "source": [
    "Сложность алгоритма: $O(n)$ по памяти (для хэш-сета) и по времени(если  не учитывать время подсчета НОД алгоритмом евклида, а как известно оно составляет в худшем случае   O(log наибольшего из двух чисел)( так как если алгоритм Евклида требует $N$ шагов для пары чисел $(a,b)$, где $a > b$, выполняются следующие неравенства $a \\geq F_{N+2}$ и $b \\geq F_{N+1}$, что доказывается мат индукцией ), то получим в худшем случае для времени исполнения алгоритма Евклида $O(\\log a)$ ( так как числа фиббаначи растут как степенная функция от $n$ с аргументом $\\frac{1+\\sqrt(5)}{2}$)"
   ]
  },
  {
   "cell_type": "code",
   "execution_count": null,
   "metadata": {},
   "outputs": [],
   "source": [
    "#"
   ]
  }
 ],
 "metadata": {
  "kernelspec": {
   "display_name": "Python 3",
   "language": "python",
   "name": "python3"
  },
  "language_info": {
   "codemirror_mode": {
    "name": "ipython",
    "version": 3
   },
   "file_extension": ".py",
   "mimetype": "text/x-python",
   "name": "python",
   "nbconvert_exporter": "python",
   "pygments_lexer": "ipython3",
   "version": "3.7.3"
  }
 },
 "nbformat": 4,
 "nbformat_minor": 2
}
